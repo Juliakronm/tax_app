{
 "cells": [
  {
   "cell_type": "code",
   "execution_count": 28,
   "id": "initial_id",
   "metadata": {
    "collapsed": true,
    "ExecuteTime": {
     "end_time": "2024-02-08T14:15:06.714953200Z",
     "start_time": "2024-02-08T14:15:06.693215900Z"
    }
   },
   "outputs": [
    {
     "name": "stdout",
     "output_type": "stream",
     "text": [
      "2011 2021\n"
     ]
    }
   ],
   "source": [
    "import pandas as pd\n",
    "df = pd.read_csv('miljo.csv')\n",
    "\n",
    "small = df['Year'].nsmallest(1) \n",
    "big = df['Year'].nlargest(1)\n",
    "\n",
    "small = int(small.iloc[0])\n",
    "big = int(big.iloc[0])\n",
    "print(small, big)"
   ]
  },
  {
   "cell_type": "code",
   "outputs": [
    {
     "name": "stdout",
     "output_type": "stream",
     "text": [
      "Year     2011\n",
      " Tax    44141\n",
      "Name: 0, dtype: int64 Year     2021\n",
      " Tax    52204\n",
      "Name: 10, dtype: int64\n"
     ]
    }
   ],
   "source": [
    "min_row = df.loc[df['Year'].idxmin()]\n",
    "max_row = df.loc[df['Year'].idxmax()]\n",
    "\n",
    "print(min_row, max_row)"
   ],
   "metadata": {
    "collapsed": false,
    "ExecuteTime": {
     "end_time": "2024-02-08T13:50:16.128819500Z",
     "start_time": "2024-02-08T13:50:16.106729600Z"
    }
   },
   "id": "5593ee6ee4cf7f29",
   "execution_count": 12
  },
  {
   "cell_type": "code",
   "outputs": [
    {
     "name": "stdout",
     "output_type": "stream",
     "text": [
      "2011\n"
     ]
    }
   ],
   "source": [
    "lejden = 2011\n",
    "print(lejden)"
   ],
   "metadata": {
    "collapsed": false,
    "ExecuteTime": {
     "end_time": "2024-02-08T13:50:16.129817600Z",
     "start_time": "2024-02-08T13:50:16.119020Z"
    }
   },
   "id": "5692598528103ed6",
   "execution_count": 13
  },
  {
   "cell_type": "code",
   "outputs": [
    {
     "data": {
      "text/plain": "2011"
     },
     "execution_count": 16,
     "metadata": {},
     "output_type": "execute_result"
    }
   ],
   "source": [
    "kul = df['Year'][0]\n",
    "kul"
   ],
   "metadata": {
    "collapsed": false,
    "ExecuteTime": {
     "end_time": "2024-02-08T13:51:52.310862700Z",
     "start_time": "2024-02-08T13:51:52.301393300Z"
    }
   },
   "id": "d1e610c5ee201f67",
   "execution_count": 16
  }
 ],
 "metadata": {
  "kernelspec": {
   "display_name": "Python 3",
   "language": "python",
   "name": "python3"
  },
  "language_info": {
   "codemirror_mode": {
    "name": "ipython",
    "version": 2
   },
   "file_extension": ".py",
   "mimetype": "text/x-python",
   "name": "python",
   "nbconvert_exporter": "python",
   "pygments_lexer": "ipython2",
   "version": "2.7.6"
  }
 },
 "nbformat": 4,
 "nbformat_minor": 5
}
